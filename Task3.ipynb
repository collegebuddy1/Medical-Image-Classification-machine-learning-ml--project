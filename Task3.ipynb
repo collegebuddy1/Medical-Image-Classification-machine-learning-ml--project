{
  "cells": [
    {
      "cell_type": "markdown",
      "metadata": {
        "id": "F2pdoYFFNleu"
      },
      "source": [
        "**Copy this task at end of task #2 notebook**"
      ]
    },
    {
      "cell_type": "code",
      "execution_count": null,
      "metadata": {
        "id": "4-Y7qb0iYVbt"
      },
      "outputs": [],
      "source": [
        "# Do the tasks mentioned below at the end of task2 notebook."
      ]
    },
    {
      "cell_type": "markdown",
      "metadata": {
        "id": "28W1Ymzzpznu"
      },
      "source": [
        "## <font color='orange'>Task #3</font>\n",
        "\n",
        "Build and Training model\n",
        "\n",
        "Aim to increase accuracy and AUC score\n",
        "\n",
        "Note: Accuracy of your model also depend on how you have <font color='orange'>pre-processed</font> your data along with model architecture. Hence results of your CNN is highly dependent on Task #2"
      ]
    },
    {
      "cell_type": "markdown",
      "metadata": {},
      "source": [
        "This is <font color='red'>binary</font> classification task. Classifying images into <font color='yellow'>normal and infected</font> "
      ]
    },
    {
      "cell_type": "code",
      "execution_count": null,
      "metadata": {
        "id": "HU19U1O8hKn4"
      },
      "outputs": [],
      "source": [
        "#Create a CNN.\n",
        "#Use accuracy and ROC-AUC matices.\n"
      ]
    },
    {
      "cell_type": "code",
      "execution_count": null,
      "metadata": {
        "id": "eU5z_CuHkhKG"
      },
      "outputs": [],
      "source": [
        "#Run model here.\n"
      ]
    },
    {
      "cell_type": "code",
      "execution_count": null,
      "metadata": {
        "id": "UuC-x6B4lQBS"
      },
      "outputs": [],
      "source": [
        "'''Plot 3 graphs showing progress over each epoch - \n",
        "\n",
        "       loss vs validation loss\n",
        "       accurracy vs validation accuracy\n",
        "       AUC score vs Validation AUC score.\n",
        "'''\n",
        "\n",
        "#There should be proper labelling of graphs, show legends.\n"
      ]
    },
    {
      "cell_type": "markdown",
      "metadata": {},
      "source": [
        "Take care of underfitting and overfitting. Even if your model has better matrices score, but under or overfitting may lead to rejection of PR"
      ]
    },
    {
      "cell_type": "code",
      "execution_count": null,
      "metadata": {
        "id": "PG5WqZswk7aR"
      },
      "outputs": [],
      "source": [
        "#Test model here.\n"
      ]
    },
    {
      "cell_type": "markdown",
      "metadata": {},
      "source": [
        "Make sure to save your best model (.h5 format)"
      ]
    },
    {
      "cell_type": "code",
      "execution_count": null,
      "metadata": {
        "id": "OvkZvXX_lAWm"
      },
      "outputs": [],
      "source": [
        "#Plot confusion matrix\n"
      ]
    }
  ],
  "metadata": {
    "colab": {
      "provenance": []
    },
    "kernelspec": {
      "display_name": "Python 3",
      "name": "python3"
    },
    "language_info": {
      "name": "python"
    }
  },
  "nbformat": 4,
  "nbformat_minor": 0
}
