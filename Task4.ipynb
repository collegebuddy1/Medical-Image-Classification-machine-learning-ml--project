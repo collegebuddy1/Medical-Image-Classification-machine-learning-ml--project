{
  "cells": [
    {
      "cell_type": "markdown",
      "metadata": {
        "id": "F2pdoYFFNleu"
      },
      "source": [
        "**Copy this task at end of task #3 notebook**"
      ]
    },
    {
      "cell_type": "code",
      "execution_count": null,
      "metadata": {
        "id": "4-Y7qb0iYVbt"
      },
      "outputs": [],
      "source": [
        "#Import any library here only.\n"
      ]
    },
    {
      "cell_type": "markdown",
      "metadata": {
        "id": "28W1Ymzzpznu"
      },
      "source": [
        "## <font color='orange'>Task #4</font>\n",
        "\n",
        "Finetuning a pre-trained model and then train it\n",
        "\n",
        "Aim to increase accuracy and AUC score"
      ]
    },
    {
      "cell_type": "code",
      "execution_count": null,
      "metadata": {
        "id": "5cCG3oyz-rfE"
      },
      "outputs": [],
      "source": [
        "# Use any pretrained model resnet/EfficientNet/VGG etc. and finetune them.\n",
        "#Perform all task in task3.\n"
      ]
    }
  ],
  "metadata": {
    "colab": {
      "provenance": []
    },
    "kernelspec": {
      "display_name": "Python 3",
      "name": "python3"
    },
    "language_info": {
      "name": "python"
    }
  },
  "nbformat": 4,
  "nbformat_minor": 0
}
